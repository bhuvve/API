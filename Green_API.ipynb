{
 "cells": [
  {
   "cell_type": "code",
   "execution_count": 15,
   "metadata": {},
   "outputs": [
    {
     "name": "stdout",
     "output_type": "stream",
     "text": [
      "b'<html>\\r\\n<head><title>403 Forbidden</title></head>\\r\\n<body bgcolor=\"white\">\\r\\n<center><h1>403 Forbidden</h1></center>\\r\\n<hr><center>nginx/1.14.0 (Ubuntu)</center>\\r\\n</body>\\r\\n</html>\\r\\n'\n"
     ]
    }
   ],
   "source": [
    "instance_id = \"7103850981\"\n",
    "api_token = \"7c86663c246f44b08c720975b881c81f803c5729a7b940d9a3\"\n",
    "\n",
    "url = f\"https://api.green-api.com/waInstance/{instance_id}/sendMessage/{api_token}\"\n",
    "\n",
    "payload = {\n",
    "    \"chatId\": \"917569648853@c.us\",\n",
    "    \"message\": \"I use Green-API to send this message to you!\"\n",
    "}\n",
    "\n",
    "headers = {\n",
    "    'Content-Type': 'application/json'\n",
    "}\n",
    "\n",
    "response = requests.post(url, json=payload, headers=headers)\n",
    "\n",
    "print(response.text.encode('utf8'))\n"
   ]
  },
  {
   "cell_type": "code",
   "execution_count": 16,
   "metadata": {},
   "outputs": [
    {
     "name": "stdout",
     "output_type": "stream",
     "text": [
      "Collecting whatsapp-api-client-pythonNote: you may need to restart the kernel to use updated packages.\n",
      "\n",
      "  Downloading whatsapp_api_client_python-0.0.41-py3-none-any.whl (21 kB)\n",
      "Requirement already satisfied: requests==2.31.0 in c:\\users\\bhuvv\\appdata\\local\\programs\\python\\python311\\lib\\site-packages (from whatsapp-api-client-python) (2.31.0)\n",
      "Requirement already satisfied: charset-normalizer<4,>=2 in c:\\users\\bhuvv\\appdata\\local\\programs\\python\\python311\\lib\\site-packages (from requests==2.31.0->whatsapp-api-client-python) (3.2.0)\n",
      "Requirement already satisfied: idna<4,>=2.5 in c:\\users\\bhuvv\\appdata\\local\\programs\\python\\python311\\lib\\site-packages (from requests==2.31.0->whatsapp-api-client-python) (3.4)\n",
      "Requirement already satisfied: urllib3<3,>=1.21.1 in c:\\users\\bhuvv\\appdata\\local\\programs\\python\\python311\\lib\\site-packages (from requests==2.31.0->whatsapp-api-client-python) (2.0.4)\n",
      "Requirement already satisfied: certifi>=2017.4.17 in c:\\users\\bhuvv\\appdata\\local\\programs\\python\\python311\\lib\\site-packages (from requests==2.31.0->whatsapp-api-client-python) (2023.7.22)\n",
      "Installing collected packages: whatsapp-api-client-python\n",
      "Successfully installed whatsapp-api-client-python-0.0.41\n"
     ]
    },
    {
     "name": "stderr",
     "output_type": "stream",
     "text": [
      "\n",
      "[notice] A new release of pip is available: 23.1.2 -> 23.2.1\n",
      "[notice] To update, run: python.exe -m pip install --upgrade pip\n"
     ]
    }
   ],
   "source": [
    "pip install whatsapp-api-client-python\n"
   ]
  },
  {
   "cell_type": "code",
   "execution_count": 17,
   "metadata": {},
   "outputs": [],
   "source": [
    "from whatsapp_api_client_python import API\n"
   ]
  },
  {
   "cell_type": "code",
   "execution_count": 22,
   "metadata": {},
   "outputs": [
    {
     "name": "stdout",
     "output_type": "stream",
     "text": [
      "{'idMessage': 'BAE50559203763BE'}\n"
     ]
    }
   ],
   "source": [
    "from whatsapp_api_client_python import API\n",
    "\n",
    "greenAPI = API.GreenApi(\n",
    "    \"7103850981\", \"7c86663c246f44b08c720975b881c81f803c5729a7b940d9a3\"\n",
    ")\n",
    "\n",
    "\n",
    "def main():\n",
    "    response = greenAPI.sending.sendMessage(\"917569648853@c.us\", \"hello text\")\n",
    "\n",
    "    print(response.data)\n",
    "\n",
    "\n",
    "if __name__ == '__main__':\n",
    "    main()"
   ]
  },
  {
   "cell_type": "code",
   "execution_count": 21,
   "metadata": {},
   "outputs": [
    {
     "name": "stdout",
     "output_type": "stream",
     "text": [
      "b'<html>\\r\\n<head><title>403 Forbidden</title></head>\\r\\n<body bgcolor=\"white\">\\r\\n<center><h1>403 Forbidden</h1></center>\\r\\n<hr><center>nginx/1.14.0 (Ubuntu)</center>\\r\\n</body>\\r\\n</html>\\r\\n'\n"
     ]
    }
   ],
   "source": [
    "import requests\n",
    "\n",
    "url = \"https://api.green-api.com/waInstance{{7103850981}}/sendMessage/{{7c86663c246f44b08c720975b881c81f803c5729a7b940d9a3}}\"\n",
    "\n",
    "payload = \"{\\r\\n\\t\\\"chatId\\\": \\\"917569648853@c.us\\\",\\r\\n\\t\\\"message\\\": \\\"I use Green-API to send this message to you!\\\"\\r\\n}\"\n",
    "headers = {\n",
    "'Content-Type': 'application/json'\n",
    "}\n",
    "\n",
    "response = requests.request(\"POST\", url, headers=headers, data = payload)\n",
    "\n",
    "print(response.text.encode('utf8'))\n"
   ]
  }
 ],
 "metadata": {
  "kernelspec": {
   "display_name": "Python 3",
   "language": "python",
   "name": "python3"
  },
  "language_info": {
   "codemirror_mode": {
    "name": "ipython",
    "version": 3
   },
   "file_extension": ".py",
   "mimetype": "text/x-python",
   "name": "python",
   "nbconvert_exporter": "python",
   "pygments_lexer": "ipython3",
   "version": "3.11.4"
  },
  "orig_nbformat": 4
 },
 "nbformat": 4,
 "nbformat_minor": 2
}
